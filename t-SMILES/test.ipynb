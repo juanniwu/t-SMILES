{
 "cells": [
  {
   "cell_type": "code",
   "execution_count": 16,
   "metadata": {},
   "outputs": [],
   "source": [
    "from DataSet.STDTokens import CTokens, STDTokens_Frag_File\n",
    "from MolUtils.RDKUtils.Frag.RDKFragUtil import Fragment_Alg\n",
    "from DataSet.Graph.CNJMolAssembler import CNJMolAssembler\n",
    "from DataSet.Graph.CNJMolUtil import CNJMolUtil           \n",
    "from DataSet.Graph.CNJTMol import CNJMolUtils\n",
    "\n",
    "from DataSet.Graph.CNJTMol import preprocess"
   ]
  },
  {
   "cell_type": "markdown",
   "metadata": {},
   "source": [
    "Test encoding algorithm"
   ]
  },
  {
   "cell_type": "code",
   "execution_count": null,
   "metadata": {},
   "outputs": [],
   "source": [
    "smls = 'CC1=CC=C(C=C1)C2=CC(=NN2C3=CC=C(C=C3)S(=O)(=O)N)C(F)(F)F'  #celecoxib\n",
    "\n",
    "dec_algs = [\n",
    "     Fragment_Alg.Vanilla,\n",
    "     Fragment_Alg.JTVAE,\n",
    "     Fragment_Alg.BRICS,\n",
    "     Fragment_Alg.BRICS_Base,\n",
    "     Fragment_Alg.MMPA,\n",
    "     Fragment_Alg.Scaffold,\n",
    "     Fragment_Alg.BRICS_DY,\n",
    "     Fragment_Alg.MMPA_DY,\n",
    "     Fragment_Alg.Scaffold_DY,\n",
    "     #Fragment_Alg.RBrics_DY,\n",
    "    ]\n",
    "\n",
    "print('[smls is]:', smls)\n",
    "\n",
    "ctoken = CTokens(STDTokens_Frag_File(None), max_length = 256, invalid = True, onehot = False)\n",
    "\n",
    "\n",
    "for dec_alg in dec_algs:\n",
    "    combine_sml, combine_smt, amt_bfs_smarts = CNJMolUtils.encode_single(smls, ctoken, dec_alg)\n",
    "\n",
    "    print('[dec_alg is]:', dec_alg.name)\n",
    "    print('[TSSA/TSDY]:', combine_sml)\n",
    "    print('[TSID     ]:', combine_smt)\n",
    "    print('[TSIS     ]:', amt_bfs_smarts)\n"
   ]
  },
  {
   "cell_type": "markdown",
   "metadata": {},
   "source": [
    "Test decoding Algorithm"
   ]
  },
  {
   "cell_type": "code",
   "execution_count": 17,
   "metadata": {},
   "outputs": [
    {
     "name": "stdout",
     "output_type": "stream",
     "text": [
      "input:= *C&*C1=CC=C(*)C=C1&*C1=CC(*)=NN1*&*C(*)(F)F&*F^*C1=CC=C(*)C=C1&&*S(N)(=O)=O&&&\n",
      "bfs_ex_smiles ['*C', '&', '*C1=CC=C(*)C=C1', '&', '*C1=CC(*)=NN1*', '&', '*C(*)(F)F', '&', '*F', '*C1=CC=C(*)C=C1', '&', '&', '*S(N)(=O)=O', '&', '&', '&']\n",
      "[len of candidates]:6, select the first 3 as target\n",
      "dec_smile:= Cc1ccc(-c2cc(-c3ccc(S(N)(=O)=O)cc3)n(C(F)(F)F)n2)cc1\n"
     ]
    }
   ],
   "source": [
    "maxlen = 512\n",
    "vocab_file = r'../RawData/Chembl/Test/Chembl_test.smi.[MMPA_DY][237]_token.voc.smi'\n",
    "\n",
    "ctoken = CTokens(STDTokens_Frag_File(vocab_file), is_pad = True, pad_symbol = ' ', startend = True,\n",
    "                     max_length = maxlen,  flip = False, invalid = True, onehot = False)\n",
    "\n",
    "#SMILES\t = 'CC1=CC=C(C=C1)C2=CC(=NN2C3=CC=C(C=C3)S(=O)(=O)N)C(F)(F)F' #Celecoxib\n",
    "#bfs_ex = 'CC1=CC=C(C=C1)C2=CC(=NN2C3=CC=C(C=C3)S(=O)(=O)N)C(F)(F)F&&&'\t                        #TS_Vanilla\t\n",
    "\n",
    "#bfs_ex = 'CC&C1=CC=CC=C1&CC&C1=C[NH]N=C1&CC&C^CN^CF&C1=CC=CC=C1&&CF^CS&&CF^S&&&NS&&O=S&O=S&&'\t#TSSA-J\t\n",
    "#bfs_ex = 'CC1=CC=C(C2=CC(C(F)(F)F)=NN2C2=CC=C(S(N)(=O)=O)C=C2)C=C1&&&'\t                        #TSSA-B\t\n",
    "#bfs_ex = 'CC&C1=CC=CC=C1&CC&C1=C[NH]N=C1&CN&C1=CC=CC=C1^CC^CS&C&N[SH](=O)=O&CF&&&&FCF&&'\t    #TSSA-M\t\n",
    "#bfs_ex = 'CC&C1=CC=C(C2=CC=NN2C2=CC=CC=C2)C=C1&CC&FC(F)F^CS&&N[SH](=O)=O&&&'\t                #TSSA-S\t\n",
    "\n",
    "#bfs_ex = 'CC1=CC=C(C2=CC(C(F)(F)F)=NN2C2=CC=C(S(N)(=O)=O)C=C2)C=C1&&&'\t                        #TSDY-B\n",
    "bfs_ex = '*C&*C1=CC=C(*)C=C1&*C1=CC(*)=NN1*&*C(*)(F)F&*F^*C1=CC=C(*)C=C1&&*S(N)(=O)=O&&&'\t    #TSDY-M\t\n",
    "#bfs_ex = '*C&*C1=CC=C(C2=CC(*)=NN2C2=CC=C(*)C=C2)C=C1&*C(F)(F)F&&*S(N)(=O)=O&&'\t            #TSDY-S\t\n",
    "\n",
    "#bfs_ex = 'CC1=CC=C(C2=CC(C(F)(F)F)=NN2C2=CC=C(S(N)(=O)=O)C=C2)C=C1&&&'\t                                                        #TSID-B\t\n",
    "#bfs_ex = '[1*]C&[1*]C1=CC=C([2*])C=C1&[2*]C1=CC([3*])=NN1[5*]&[3*]C([4*])(F)F&[4*]F^[5*]C1=CC=C([6*])C=C1&&[6*]S(N)(=O)=O&&&'\t#TSID_M\t\n",
    "#bfs_ex = '[1*]C&[1*]C1=CC=C(C2=CC([2*])=NN2C2=CC=C([3*])C=C2)C=C1&[2*]C(F)(F)F&&[3*]S(N)(=O)=O&&'\t                            #TSID-S\t\n",
    "    \n",
    "#asm_alg = 'CALG_TSSA'    \n",
    "asm_alg = 'CALG_TSDY'    \n",
    "#asm_alg = 'CALG_TSID'    \n",
    "\n",
    "bfs_ex = ''.join(bfs_ex.strip().split(' '))\n",
    "print('input:=', bfs_ex)\n",
    "\n",
    "\n",
    "bfs_ex_smiles = CNJMolUtil.split_ex_smiles(bfs_ex, delimiter='^')\n",
    "print('bfs_ex_smiles', bfs_ex_smiles)     \n",
    "    \n",
    "n_samples = 1\n",
    "for i in range(n_samples):\n",
    "    re_smils, bfs_ex_smiles_sub, new_vocs_sub = CNJMolAssembler.decode_single(bfs_ex, ctoken , asm_alg, n_samples = 1, p_mean = None) \n",
    "    print('dec_smile:=', re_smils)"
   ]
  }
 ],
 "metadata": {
  "kernelspec": {
   "display_name": "base",
   "language": "python",
   "name": "python3"
  },
  "language_info": {
   "codemirror_mode": {
    "name": "ipython",
    "version": 3
   },
   "file_extension": ".py",
   "mimetype": "text/x-python",
   "name": "python",
   "nbconvert_exporter": "python",
   "pygments_lexer": "ipython3",
   "version": "3.7.6"
  }
 },
 "nbformat": 4,
 "nbformat_minor": 2
}